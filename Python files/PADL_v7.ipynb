{
 "cells": [
  {
   "cell_type": "markdown",
   "id": "6a83a6ef",
   "metadata": {},
   "source": [
    "# PADL: G code generation tool"
   ]
  },
  {
   "cell_type": "markdown",
   "id": "19094ccc",
   "metadata": {},
   "source": [
    "<div style=\"color: rgb(27,94,32); background: rgb(200,230,201); border: solid 1px rgb(129,199,132); padding: 10px;\"> This tool is specifically created to generate G-code for the customised 3D printer device PADL, tailored for use with well plates."
   ]
  },
  {
   "cell_type": "markdown",
   "id": "48af45bb",
   "metadata": {},
   "source": [
    "## 0. Setup"
   ]
  },
  {
   "cell_type": "markdown",
   "id": "8127a21d",
   "metadata": {},
   "source": [
    "> This section includes packages required to download."
   ]
  },
  {
   "cell_type": "markdown",
   "id": "6f9e8b3f",
   "metadata": {},
   "source": [
    "<div class=\"alert alert-info\">\n",
    "    <b>Step 0:</b> Please download the following packages if you haven't already.\n",
    "\n",
    "</div>"
   ]
  },
  {
   "cell_type": "markdown",
   "id": "6102cc87",
   "metadata": {},
   "source": [
    "### Installation notes\n",
    "\n",
    "To run this notebook you will need to install several packages, including Voila and Pygcode.\n",
    "\n",
    "1. Voila can be installed via Conda:  __[linked reference](https://voila.readthedocs.io/en/stable/install.html#install)__\n",
    "\n",
    "```bash\n",
    "conda install -c conda-forge voila\n",
    "```    \n",
    "or with pip:\n",
    "\n",
    "```bash\n",
    "pip install voila\n",
    "```\n",
    "\n",
    "2. Python-Gcode can be installed via pip only:  __[linked reference](https://pypi.org/project/pygcode/)__\n",
    "\n",
    "```bash\n",
    "pip install pygcode\n",
    "```\n",
    "\n",
    "3. Python widgets can be installed via pip only:  __[linked reference](https://pypi.org/project/ipywidgets/)__\n",
    "\n",
    "```bash\n",
    "pip install ipywidgets\n",
    "```"
   ]
  },
  {
   "cell_type": "markdown",
   "id": "26fa3caa",
   "metadata": {},
   "source": [
    "<div style=\"color: rgb(27,94,32); background: rgb(200,230,201); border: solid 1px rgb(129,199,132); padding: 10px;\"> \n",
    "\n",
    "Congratulations! You have successfully downloaded everything. \n",
    "\n",
    "Please proceed by going to the <strong>Menu</strong>, selecting <strong> Kernel</strong>, <strong>Restart & Run all</strong>. \n",
    "\n",
    "After that, click on the Voila button at the top to initiate the G-code generation process!\n",
    "\n",
    "</div>\n"
   ]
  },
  {
   "cell_type": "code",
   "execution_count": 1,
   "id": "a3e11c86",
   "metadata": {},
   "outputs": [],
   "source": [
    "import pygcode\n",
    "import ipywidgets\n",
    "import time\n",
    "\n",
    "from ipywidgets import interact, interactive, fixed, interact_manual\n",
    "import ipywidgets as widgets\n",
    "from IPython.display import display, clear_output, HTML\n",
    "import json"
   ]
  },
  {
   "cell_type": "markdown",
   "id": "00291ddb",
   "metadata": {},
   "source": [
    "## 1. Initialise input Coordinates"
   ]
  },
  {
   "cell_type": "markdown",
   "id": "377ee7cc",
   "metadata": {},
   "source": [
    "> This section involves initializing the well plate and setting up the initial coordinates."
   ]
  },
  {
   "cell_type": "markdown",
   "id": "f4210f32",
   "metadata": {},
   "source": [
    "<div class=\"alert alert-info\">\n",
    "    <b>Step 1:</b> Please choose the number of <b>rows, columns, X step size, and Y step size</b> for your well plate.\n",
    "\n",
    "</div>"
   ]
  },
  {
   "cell_type": "markdown",
   "id": "bc8a1837",
   "metadata": {},
   "source": [
    "<div class=\"alert alert-block alert-warning\">\n",
    "<b>Example:</b> \n",
    "The default values are the first four lines of the saved data <b>well_plate.json</b>, which start with lowercase letters.\n",
    "    \n",
    "For example, consider a <b>96-well plate</b> with rows <b>labeled A to H</b> and columns <b>numbered 1 to 12</b>, with a 9mm gap between each well.\n",
    "    \n",
    "        'rows': 8,\n",
    "        'columns': 12,\n",
    "        'x step size': 9.0,\n",
    "        'y step size': -9.0,\n",
    "</div>"
   ]
  },
  {
   "cell_type": "code",
   "execution_count": 2,
   "id": "24526e52",
   "metadata": {},
   "outputs": [
    {
     "data": {
      "application/vnd.jupyter.widget-view+json": {
       "model_id": "19e5041cbba84a9c8a8988549e56a863",
       "version_major": 2,
       "version_minor": 0
      },
      "text/plain": [
       "IntText(value=0, description='Rows')"
      ]
     },
     "metadata": {},
     "output_type": "display_data"
    },
    {
     "data": {
      "application/vnd.jupyter.widget-view+json": {
       "model_id": "c088cc23e7c34b4696fe97da8527416b",
       "version_major": 2,
       "version_minor": 0
      },
      "text/plain": [
       "IntText(value=0, description='Columns')"
      ]
     },
     "metadata": {},
     "output_type": "display_data"
    },
    {
     "data": {
      "application/vnd.jupyter.widget-view+json": {
       "model_id": "686c056c6f4b4febaf2e92bf37c24cab",
       "version_major": 2,
       "version_minor": 0
      },
      "text/plain": [
       "FloatText(value=0.0, description='X step size')"
      ]
     },
     "metadata": {},
     "output_type": "display_data"
    },
    {
     "data": {
      "application/vnd.jupyter.widget-view+json": {
       "model_id": "7e38b84c34b8457bb1f88e1f3e0b631b",
       "version_major": 2,
       "version_minor": 0
      },
      "text/plain": [
       "FloatText(value=0.0, description='Y step size')"
      ]
     },
     "metadata": {},
     "output_type": "display_data"
    },
    {
     "data": {
      "application/vnd.jupyter.widget-view+json": {
       "model_id": "95117b47624e4a02900dde5532872c60",
       "version_major": 2,
       "version_minor": 0
      },
      "text/plain": [
       "Textarea(value='', description='Wellplate Setup:', layout=Layout(height='200px', width='350px'))"
      ]
     },
     "metadata": {},
     "output_type": "display_data"
    }
   ],
   "source": [
    "# Define the integer widgets\n",
    "rows = widgets.IntText(description='Rows')\n",
    "columns = widgets.IntText(description='Columns')\n",
    "x_step_size = widgets.FloatText(description='X step size')\n",
    "y_step_size = widgets.FloatText(description='Y step size')\n",
    "\n",
    "# Display the integer widgets\n",
    "display(rows)\n",
    "display(columns)\n",
    "display(x_step_size)\n",
    "display(y_step_size)\n",
    "\n",
    "# Load data from a JSON file if it exists, otherwise initialize\n",
    "try:\n",
    "    with open('well_plate.json', 'r') as file0:\n",
    "        well_plate = json.load(file0)\n",
    "except FileNotFoundError:\n",
    "    well_plate = {\n",
    "        'rows': 8,\n",
    "        'columns': 12,\n",
    "        'x step size': 9.0,\n",
    "        'y step size': -9.0,\n",
    "        '':'',\n",
    "        'Rows': 8,\n",
    "        'Columns': 12,\n",
    "        'X step size': 9.0,\n",
    "        'Y step size': -9.0,\n",
    "    }\n",
    "\n",
    "# Define the output widget for integer values\n",
    "intout_text = widgets.Textarea(\n",
    "    value='',  # Initialize with an empty string\n",
    "    description='Wellplate Setup:',\n",
    "    disabled=False,\n",
    "    layout=widgets.Layout(height='200px', width='350px')\n",
    ")\n",
    "\n",
    "# Define the function to update integer values\n",
    "def update_values(change):\n",
    "    variable_name = change['owner'].description\n",
    "    well_plate[variable_name] = change['new']  # Replace the existing value\n",
    "    \n",
    "    # Update the output text\n",
    "    intout_text.value = \"\\n\".join([f\"{key}: {value}\" for key, value in well_plate.items()])\n",
    "    \n",
    "    # Save the updated data to the JSON file\n",
    "    with open('well_plate.json', 'w') as file:\n",
    "        json.dump(well_plate, file, indent=4)\n",
    "\n",
    "# Observe changes in the integer widgets\n",
    "rows.observe(update_values, names='value')\n",
    "columns.observe(update_values, names='value')\n",
    "x_step_size.observe(update_values, names='value')\n",
    "y_step_size.observe(update_values, names='value')\n",
    "\n",
    "# Display the output widget\n",
    "display(intout_text)\n",
    "\n",
    "# Display initial values\n",
    "intout_text.value = \"\\n\".join([f\"{key}: {value}\" for key, value in well_plate.items()]) \n",
    "\n",
    "# Assign the loaded integer values to variables\n",
    "x_step_size = well_plate['X step size']\n",
    "y_step_size = well_plate['Y step size']\n",
    "rows = well_plate['Rows']\n",
    "columns = well_plate['Columns']"
   ]
  },
  {
   "cell_type": "markdown",
   "id": "fbda055b",
   "metadata": {},
   "source": [
    "<div class=\"alert alert-info\">\n",
    "    <b>Step 2:</b> Please choose the coordinates of <b>reservoir, water, head_away, and initial_A1</b> for your well plate.\n",
    "\n",
    "</div>"
   ]
  },
  {
   "cell_type": "markdown",
   "id": "e18c4ee1",
   "metadata": {},
   "source": [
    "<div class=\"alert alert-block alert-warning\">\n",
    "<b>Example:</b> \n",
    "The default values are the first four lines of the saved data <b>option_value.json</b>, which start with lowercase letters.\n",
    "    \n",
    "Sample coordinates:\n",
    "    \n",
    "        reservoir: X150.0 Y204.0 Z60.0\n",
    "        water: X150.0 Y204.0 Z5.0\n",
    "        head_away: X150.0 Y204.0 Z60.0\n",
    "        initial_A1: X63.0 Y156.0 Z6\n",
    "</div>"
   ]
  },
  {
   "cell_type": "code",
   "execution_count": 3,
   "id": "dbb5e950",
   "metadata": {},
   "outputs": [
    {
     "name": "stdout",
     "output_type": "stream",
     "text": [
      "Please choose your coordinates first and variable name second\n",
      "Suggest that \n"
     ]
    },
    {
     "data": {
      "application/vnd.jupyter.widget-view+json": {
       "model_id": "03f74a065d6849a9b90d3ea0994b4f2b",
       "version_major": 2,
       "version_minor": 0
      },
      "text/plain": [
       "FloatText(value=0.0, description='X:')"
      ]
     },
     "metadata": {},
     "output_type": "display_data"
    },
    {
     "data": {
      "application/vnd.jupyter.widget-view+json": {
       "model_id": "8b7f21b5b5c347d38f487419da377a3f",
       "version_major": 2,
       "version_minor": 0
      },
      "text/plain": [
       "FloatText(value=0.0, description='Y:')"
      ]
     },
     "metadata": {},
     "output_type": "display_data"
    },
    {
     "data": {
      "application/vnd.jupyter.widget-view+json": {
       "model_id": "fc82d3decf904e43bd4c5401700adc5d",
       "version_major": 2,
       "version_minor": 0
      },
      "text/plain": [
       "FloatText(value=0.0, description='Z:')"
      ]
     },
     "metadata": {},
     "output_type": "display_data"
    },
    {
     "data": {
      "application/vnd.jupyter.widget-view+json": {
       "model_id": "1d23eb9e767e4b11b05efc52c9917e33",
       "version_major": 2,
       "version_minor": 0
      },
      "text/plain": [
       "Dropdown(description='For variable', options=(('', 'Select an option'), ('Reservoir', 'Reservoir'), ('Water', …"
      ]
     },
     "metadata": {},
     "output_type": "display_data"
    },
    {
     "data": {
      "application/vnd.jupyter.widget-view+json": {
       "model_id": "2fe9bcc4fdda47d2a976c03ac4ea6aea",
       "version_major": 2,
       "version_minor": 0
      },
      "text/plain": [
       "Textarea(value='', description='Coordinates of variables:', layout=Layout(height='200px', width='350px'))"
      ]
     },
     "metadata": {},
     "output_type": "display_data"
    }
   ],
   "source": [
    "X_text = widgets.FloatText(description='X:')\n",
    "Y_text = widgets.FloatText(description='Y:')\n",
    "Z_text = widgets.FloatText(description='Z:')\n",
    "\n",
    "print('Please choose your coordinates first and variable name second')\n",
    "print('Suggest that ')\n",
    "display(X_text)\n",
    "display(Y_text)\n",
    "display(Z_text)\n",
    "\n",
    "number_dropdown = widgets.Dropdown(\n",
    "    options=[('', 'Select an option'), ('Reservoir', 'Reservoir'), ('Water', 'Water'), ('Head_away', 'Head_away'), \n",
    "             ('A1', 'A1')],\n",
    "    description='For variable'\n",
    ")\n",
    "display(number_dropdown)\n",
    "\n",
    "# Load data from a JSON file if it exists, otherwise initialize\n",
    "try:\n",
    "    with open('option_values.json', 'r') as file:\n",
    "        option_values = json.load(file)\n",
    "except FileNotFoundError:\n",
    "    option_values = {\n",
    "        'reservoir': 'X150.0 Y204.0 Z60.0',\n",
    "        'water': 'X150.0 Y204.0 Z5.0',\n",
    "        'head_away': 'X150.0 Y204.0 Z60.0',\n",
    "        'initial_A1': 'X63.0 Y156.0 Z6',\n",
    "        '':'',\n",
    "        'Reservoir': 'X150.0 Y204.0 Z60.0',\n",
    "        'Water': 'X150.0 Y204.0 Z5.0',\n",
    "        'Head_away': 'X150.0 Y204.0 Z60.0',\n",
    "        'A1': 'X63.0 Y156.0 Z6',\n",
    "    }\n",
    "\n",
    "output_text = widgets.Textarea(\n",
    "    value=\"\",  # Initialize with an empty string\n",
    "    description='Coordinates of variables:',\n",
    "    disabled=False,\n",
    "    layout=widgets.Layout(height='200px', width='350px')\n",
    ")\n",
    "\n",
    "def update_values(change):\n",
    "    selected_option = change['new']\n",
    "    option_values[selected_option] = f'X{X_text.value} Y{Y_text.value} Z{Z_text.value}'\n",
    "    output_text.value = \"\\n\".join([f\"{key}: {value}\" for key, value in option_values.items()])\n",
    "    # Save the updated data to the JSON file\n",
    "    with open('option_values.json', 'w') as file:\n",
    "        json.dump(option_values, file, indent=4)\n",
    "\n",
    "number_dropdown.observe(update_values, names='value')\n",
    "\n",
    "display(output_text)\n",
    "\n",
    "# Display initial values\n",
    "output_text.value = \"\\n\".join([f\"{key}: {value}\" for key, value in option_values.items()]) \n",
    "\n",
    "reservoir = option_values['Reservoir']\n",
    "water = option_values['Water']\n",
    "head_away = option_values['Head_away']\n",
    "initial_A1 = option_values['A1']"
   ]
  },
  {
   "cell_type": "markdown",
   "id": "f1a26ae8",
   "metadata": {},
   "source": [
    "## 2. Speed settings"
   ]
  },
  {
   "cell_type": "markdown",
   "id": "3d9ea23a",
   "metadata": {},
   "source": [
    "> This section include selecting the moving speed of the extruder."
   ]
  },
  {
   "cell_type": "markdown",
   "id": "8b7d438b",
   "metadata": {},
   "source": [
    "<div class=\"alert alert-info\">\n",
    "    <b>Step 3:</b> Please choose the <b>extruder's moving speed</b> for navigating to the coordinates of the well plate cells.\n",
    "\n",
    "</div>"
   ]
  },
  {
   "cell_type": "markdown",
   "id": "614b56db",
   "metadata": {},
   "source": [
    "<div class=\"alert alert-block alert-warning\">\n",
    "<b>Example:</b> \n",
    "    \n",
    "        \n",
    "Recommended speed:\n",
    "    \n",
    "        move_speed: ' F3000'\n",
    "        well_speed: ' F2000'     \n",
    "        fill_tube_speed: ' F10'    \n",
    "        aspirate_speed: ' F20' \n",
    "</div>"
   ]
  },
  {
   "cell_type": "code",
   "execution_count": 4,
   "id": "ee641425",
   "metadata": {},
   "outputs": [
    {
     "data": {
      "application/vnd.jupyter.widget-view+json": {
       "model_id": "0a125d649f5943d59fd96ae27c44f1c9",
       "version_major": 2,
       "version_minor": 0
      },
      "text/plain": [
       "IntText(value=0, description='Move_speed')"
      ]
     },
     "metadata": {},
     "output_type": "display_data"
    },
    {
     "data": {
      "application/vnd.jupyter.widget-view+json": {
       "model_id": "c4f8faa914ee40b4b72844e97ecc4c63",
       "version_major": 2,
       "version_minor": 0
      },
      "text/plain": [
       "IntText(value=0, description='Well_speed')"
      ]
     },
     "metadata": {},
     "output_type": "display_data"
    },
    {
     "data": {
      "application/vnd.jupyter.widget-view+json": {
       "model_id": "0031ecdcf2b24a7e8eb97e60c57eab38",
       "version_major": 2,
       "version_minor": 0
      },
      "text/plain": [
       "IntText(value=0, description='Dispense_speed')"
      ]
     },
     "metadata": {},
     "output_type": "display_data"
    },
    {
     "data": {
      "application/vnd.jupyter.widget-view+json": {
       "model_id": "bc1137584d9946bfacf4229aa0f4a158",
       "version_major": 2,
       "version_minor": 0
      },
      "text/plain": [
       "IntText(value=0, description='Aspirate_speed')"
      ]
     },
     "metadata": {},
     "output_type": "display_data"
    },
    {
     "data": {
      "application/vnd.jupyter.widget-view+json": {
       "model_id": "c32e56cdbbc041e7a252e5704084b626",
       "version_major": 2,
       "version_minor": 0
      },
      "text/plain": [
       "FloatText(value=0.0, description='Wait_between_cells_sec')"
      ]
     },
     "metadata": {},
     "output_type": "display_data"
    },
    {
     "data": {
      "application/vnd.jupyter.widget-view+json": {
       "model_id": "1eeb5c68225c445cab1e8da6df59fe76",
       "version_major": 2,
       "version_minor": 0
      },
      "text/plain": [
       "FloatText(value=0.0, description='Wait_between_experiment_sec')"
      ]
     },
     "metadata": {},
     "output_type": "display_data"
    },
    {
     "data": {
      "application/vnd.jupyter.widget-view+json": {
       "model_id": "58efdeeab17a4143a4edaa5fd3f8e021",
       "version_major": 2,
       "version_minor": 0
      },
      "text/plain": [
       "FloatText(value=0.0, description='Wait_initial')"
      ]
     },
     "metadata": {},
     "output_type": "display_data"
    },
    {
     "data": {
      "application/vnd.jupyter.widget-view+json": {
       "model_id": "513b6c6726864db2a792eea30ecbc42e",
       "version_major": 2,
       "version_minor": 0
      },
      "text/plain": [
       "Textarea(value='', description='Speed Setup:', layout=Layout(height='350px', width='350px'))"
      ]
     },
     "metadata": {},
     "output_type": "display_data"
    }
   ],
   "source": [
    "# Define the integer widgets\n",
    "move_speed_widget = widgets.IntText(description='Move_speed')\n",
    "well_speed_widget = widgets.IntText(description='Well_speed')\n",
    "dispense_speed_widget = widgets.IntText(description='Dispense_speed')\n",
    "aspirate_speed_widget = widgets.IntText(description='Aspirate_speed')\n",
    "wait_between_cells_sec_widget = widgets.FloatText(description='Wait_between_cells_sec')\n",
    "wait_between_experiment_sec_widget = widgets.FloatText(description='Wait_between_experiment_sec')\n",
    "wait_initial_widget = widgets.FloatText(description='Wait_initial')\n",
    "\n",
    "# Display the integer widgets\n",
    "display(move_speed_widget)\n",
    "display(well_speed_widget)\n",
    "display(dispense_speed_widget)\n",
    "display(aspirate_speed_widget)\n",
    "display(wait_between_cells_sec_widget)\n",
    "display(wait_between_experiment_sec_widget)\n",
    "display(wait_initial_widget)\n",
    "\n",
    "# Load data from a JSON file if it exists, otherwise initialize\n",
    "try:\n",
    "    with open('speed.json', 'r') as file2:\n",
    "        speed = json.load(file2)\n",
    "except FileNotFoundError:\n",
    "    speed = {\n",
    "        'move_speed': 3000,\n",
    "        'well_speed': 2000,     \n",
    "        'dispense_speed': 5,   \n",
    "        'aspirate_speed': 20, \n",
    "        'wait_initial': 120,\n",
    "        'wait_between_cells_sec': 0.2,\n",
    "        'wait_between_experiment_sec': 3600,\n",
    "        '':'',\n",
    "        'Move_speed': 3000,\n",
    "        'Well_speed': 2000,     \n",
    "        'Dispense_speed': 5,   \n",
    "        'Aspirate_speed': 20,\n",
    "        'Wait_initial': 120,\n",
    "        'Wait_between_cells_sec': 0.2,\n",
    "        'Wait_between_experiment_sec': 3600,\n",
    "    }\n",
    "\n",
    "# Define the output widget for integer values\n",
    "set_text = widgets.Textarea(\n",
    "    value='',  # Initialize with an empty string\n",
    "    description='Speed Setup:',\n",
    "    disabled=False,\n",
    "    layout=widgets.Layout(height='350px', width='350px')\n",
    ")\n",
    "\n",
    "# Define the function to update integer values\n",
    "def update_values(change):\n",
    "    variable_name = change['owner'].description\n",
    "    speed[variable_name] = change['new']  # Replace the existing value\n",
    "    \n",
    "    # Update the output text\n",
    "    set_text.value = \"\\n\".join([f\"{key}: {value}\" for key, value in speed.items()])\n",
    "    \n",
    "    # Save the updated data to the JSON file\n",
    "    with open('speed.json', 'w') as file:\n",
    "        json.dump(speed, file, indent=4)\n",
    "\n",
    "# Observe changes in the integer widgets\n",
    "move_speed_widget.observe(update_values, names='value')\n",
    "well_speed_widget.observe(update_values, names='value')\n",
    "dispense_speed_widget.observe(update_values, names='value')\n",
    "aspirate_speed_widget.observe(update_values, names='value')\n",
    "wait_between_cells_sec_widget.observe(update_values, names='value')\n",
    "wait_between_experiment_sec_widget.observe(update_values, names='value')\n",
    "wait_initial_widget.observe(update_values, names='value')\n",
    "\n",
    "# Display the output widget\n",
    "display(set_text)\n",
    "\n",
    "# Display initial values\n",
    "set_text.value = \"\\n\".join([f\"{key}: {value}\" for key, value in speed.items()]) \n",
    "\n",
    "# Assign the loaded integer values to variables with 'F' prefix\n",
    "dispense_speed = ' F' + str(speed['Dispense_speed'])\n",
    "aspirate_speed = ' F' + str(speed['Aspirate_speed'])\n",
    "move_speed = ' F' + str(speed['Move_speed'])\n",
    "well_speed = ' F' + str(speed['Well_speed'])\n",
    "wait_initial = 'S' + str(speed['Wait_initial']) \n",
    "wait_between_cells_sec = 'S' + str(speed['Wait_between_cells_sec']) \n",
    "wait_between_experiment_sec = 'S' + str(speed['Wait_between_experiment_sec']) \n"
   ]
  },
  {
   "cell_type": "markdown",
   "id": "dbb6dbe1",
   "metadata": {},
   "source": [
    "## 3. Get the well-plate coordinates"
   ]
  },
  {
   "cell_type": "markdown",
   "id": "68b32be5",
   "metadata": {},
   "source": [
    "> This section involves generating the well-plate coordinates based on the initialisation step that precedes it."
   ]
  },
  {
   "cell_type": "markdown",
   "id": "4aff2c1d",
   "metadata": {},
   "source": [
    "<div class=\"alert alert-info\">\n",
    "    <b>Step 4:</b> Please verify the coordinates for H12 with the 3D printer coordinates to ensure they match. If they do not match, it may be necessary to update the X and Y coordinates accordingly.\n",
    "</div>"
   ]
  },
  {
   "cell_type": "code",
   "execution_count": 5,
   "id": "344871b9",
   "metadata": {},
   "outputs": [],
   "source": [
    "# Define your 3D printer settings\n",
    "fill_tube_speed = ' F10'\n",
    "\n",
    "Move = 'G0 '\n",
    "Liquid = 'G1 '\n",
    "Stop = 'G4 '\n",
    "\n",
    "v3 = 'E4'\n",
    "v_1 = 'E-1'\n",
    "v_dispense = 'E-0.1'"
   ]
  },
  {
   "cell_type": "code",
   "execution_count": 6,
   "id": "3d535981",
   "metadata": {},
   "outputs": [],
   "source": [
    "def generate_sequence_y(initial, y_step_size, num_value):\n",
    "    sequence = []\n",
    "    for i in range(num_value):\n",
    "        point = generate_next_point_y(initial, y_step_size * i)\n",
    "        sequence.append(point)\n",
    "    return sequence\n",
    "\n",
    "def generate_sequence_x(initial, x_step_size, num_value):\n",
    "    sequence = []\n",
    "    for i in range(num_value):\n",
    "        point = generate_next_point_x(initial, x_step_size * i)\n",
    "        sequence.append(point)\n",
    "    return sequence\n",
    "\n",
    "def generate_next_point_y(current_point, y_step_size):\n",
    "    parts = current_point.split()\n",
    "    if len(parts) != 3 or not parts[0].startswith('X') or not parts[1].startswith('Y') or not parts[2].startswith('Z'):\n",
    "        raise ValueError(\"Input format should be 'X## Y## Z##'\")\n",
    "    \n",
    "    x_val = parts[0]\n",
    "    z_val = parts[2]\n",
    "    y_val = float(parts[1][1:]) + y_step_size\n",
    "    \n",
    "    next_point = f'{x_val} Y{y_val} {z_val}'\n",
    "    return next_point\n",
    "\n",
    "def generate_next_point_x(current_point, x_step_size):\n",
    "    parts = current_point.split()\n",
    "    if len(parts) != 3 or not parts[0].startswith('X') or not parts[1].startswith('Y') or not parts[2].startswith('Z'):\n",
    "        raise ValueError(\"Input format should be 'X## Y## Z##'\")\n",
    "    \n",
    "    x_val = float(parts[0][1:]) + x_step_size\n",
    "    y_val = parts[1]\n",
    "    z_val = parts[2]\n",
    "    \n",
    "    next_point = f'X{x_val} {y_val} {z_val}'\n",
    "    return next_point"
   ]
  },
  {
   "cell_type": "code",
   "execution_count": 7,
   "id": "213c1532",
   "metadata": {},
   "outputs": [
    {
     "name": "stdout",
     "output_type": "stream",
     "text": [
      "A1: X63.0 Y156.0 Z6\n",
      "A2: X72.0 Y156.0 Z6\n",
      "A3: X81.0 Y156.0 Z6\n",
      "A4: X90.0 Y156.0 Z6\n",
      "A5: X99.0 Y156.0 Z6\n",
      "A6: X108.0 Y156.0 Z6\n",
      "A7: X117.0 Y156.0 Z6\n",
      "A8: X126.0 Y156.0 Z6\n",
      "A9: X135.0 Y156.0 Z6\n",
      "A10: X144.0 Y156.0 Z6\n",
      "A11: X153.0 Y156.0 Z6\n",
      "A12: X162.0 Y156.0 Z6\n",
      "B1: X63.0 Y147.0 Z6\n",
      "B2: X72.0 Y147.0 Z6\n",
      "B3: X81.0 Y147.0 Z6\n",
      "B4: X90.0 Y147.0 Z6\n",
      "B5: X99.0 Y147.0 Z6\n",
      "B6: X108.0 Y147.0 Z6\n",
      "B7: X117.0 Y147.0 Z6\n",
      "B8: X126.0 Y147.0 Z6\n",
      "B9: X135.0 Y147.0 Z6\n",
      "B10: X144.0 Y147.0 Z6\n",
      "B11: X153.0 Y147.0 Z6\n",
      "B12: X162.0 Y147.0 Z6\n",
      "C1: X63.0 Y138.0 Z6\n",
      "C2: X72.0 Y138.0 Z6\n",
      "C3: X81.0 Y138.0 Z6\n",
      "C4: X90.0 Y138.0 Z6\n",
      "C5: X99.0 Y138.0 Z6\n",
      "C6: X108.0 Y138.0 Z6\n",
      "C7: X117.0 Y138.0 Z6\n",
      "C8: X126.0 Y138.0 Z6\n",
      "C9: X135.0 Y138.0 Z6\n",
      "C10: X144.0 Y138.0 Z6\n",
      "C11: X153.0 Y138.0 Z6\n",
      "C12: X162.0 Y138.0 Z6\n",
      "D1: X63.0 Y129.0 Z6\n",
      "D2: X72.0 Y129.0 Z6\n",
      "D3: X81.0 Y129.0 Z6\n",
      "D4: X90.0 Y129.0 Z6\n",
      "D5: X99.0 Y129.0 Z6\n",
      "D6: X108.0 Y129.0 Z6\n",
      "D7: X117.0 Y129.0 Z6\n",
      "D8: X126.0 Y129.0 Z6\n",
      "D9: X135.0 Y129.0 Z6\n",
      "D10: X144.0 Y129.0 Z6\n",
      "D11: X153.0 Y129.0 Z6\n",
      "D12: X162.0 Y129.0 Z6\n",
      "E1: X63.0 Y120.0 Z6\n",
      "E2: X72.0 Y120.0 Z6\n",
      "E3: X81.0 Y120.0 Z6\n",
      "E4: X90.0 Y120.0 Z6\n",
      "E5: X99.0 Y120.0 Z6\n",
      "E6: X108.0 Y120.0 Z6\n",
      "E7: X117.0 Y120.0 Z6\n",
      "E8: X126.0 Y120.0 Z6\n",
      "E9: X135.0 Y120.0 Z6\n",
      "E10: X144.0 Y120.0 Z6\n",
      "E11: X153.0 Y120.0 Z6\n",
      "E12: X162.0 Y120.0 Z6\n",
      "F1: X63.0 Y111.0 Z6\n",
      "F2: X72.0 Y111.0 Z6\n",
      "F3: X81.0 Y111.0 Z6\n",
      "F4: X90.0 Y111.0 Z6\n",
      "F5: X99.0 Y111.0 Z6\n",
      "F6: X108.0 Y111.0 Z6\n",
      "F7: X117.0 Y111.0 Z6\n",
      "F8: X126.0 Y111.0 Z6\n",
      "F9: X135.0 Y111.0 Z6\n",
      "F10: X144.0 Y111.0 Z6\n",
      "F11: X153.0 Y111.0 Z6\n",
      "F12: X162.0 Y111.0 Z6\n",
      "G1: X63.0 Y102.0 Z6\n",
      "G2: X72.0 Y102.0 Z6\n",
      "G3: X81.0 Y102.0 Z6\n",
      "G4: X90.0 Y102.0 Z6\n",
      "G5: X99.0 Y102.0 Z6\n",
      "G6: X108.0 Y102.0 Z6\n",
      "G7: X117.0 Y102.0 Z6\n",
      "G8: X126.0 Y102.0 Z6\n",
      "G9: X135.0 Y102.0 Z6\n",
      "G10: X144.0 Y102.0 Z6\n",
      "G11: X153.0 Y102.0 Z6\n",
      "G12: X162.0 Y102.0 Z6\n",
      "H1: X63.0 Y93.0 Z6\n",
      "H2: X72.0 Y93.0 Z6\n",
      "H3: X81.0 Y93.0 Z6\n",
      "H4: X90.0 Y93.0 Z6\n",
      "H5: X99.0 Y93.0 Z6\n",
      "H6: X108.0 Y93.0 Z6\n",
      "H7: X117.0 Y93.0 Z6\n",
      "H8: X126.0 Y93.0 Z6\n",
      "H9: X135.0 Y93.0 Z6\n",
      "H10: X144.0 Y93.0 Z6\n",
      "H11: X153.0 Y93.0 Z6\n",
      "H12: X162.0 Y93.0 Z6\n"
     ]
    }
   ],
   "source": [
    "V1 = generate_sequence_y(initial_A1, y_step_size, rows)\n",
    "\n",
    "coordinate_mapping = {}\n",
    "step = 1\n",
    "\n",
    "for y in range(rows):\n",
    "    row_label = chr(ord('A') + y)  # Convert index to row label\n",
    "\n",
    "    x_sequence = generate_sequence_x(V1[y], x_step_size, columns)\n",
    "\n",
    "    for x, value in enumerate(x_sequence):\n",
    "        column_label = str(x + 1)  # Convert index to column label\n",
    "        well_label = row_label + column_label\n",
    "        coordinate_mapping[well_label] = value\n",
    "\n",
    "# Display coordinate_mapping in a more readable format\n",
    "for well_label, value in coordinate_mapping.items():\n",
    "    print(f'{well_label}: {value}')"
   ]
  },
  {
   "cell_type": "markdown",
   "id": "4574eda0",
   "metadata": {},
   "source": [
    "## 4. Establishing G-Code Commands for Sample Setup"
   ]
  },
  {
   "cell_type": "markdown",
   "id": "b2a318e9",
   "metadata": {},
   "source": [
    "> This section includes selecting the well plate cells and providing them as the output."
   ]
  },
  {
   "cell_type": "markdown",
   "id": "b3a2174d",
   "metadata": {},
   "source": [
    "<div class=\"alert alert-info\">\n",
    "    <b>Step 5:</b> Please select the coordniates chronologically\n",
    "</div>"
   ]
  },
  {
   "cell_type": "code",
   "execution_count": 8,
   "id": "2a502224",
   "metadata": {},
   "outputs": [],
   "source": [
    "# Create an empty list to store G-code commands\n",
    "gcode_commands = []\n",
    "\n",
    "gcode_commands.append('; Initialise G code iiiiiiiiiiiiiiiiiiiiiiiiiiiiiiiiiiiiiiiiiiiiiiiiiiiiiiiiiii')\n",
    "# Disable cold extrusion checking\n",
    "gcode_commands.append('M302 P1')\n",
    "\n",
    "# Set steps-per-ml for 5ml syringe\n",
    "gcode_commands.append('M92 E34008')\n",
    "\n",
    "# Absolute positioning\n",
    "gcode_commands.append('G90')\n",
    "\n",
    "# Set syringe pump to relative positioning\n",
    "gcode_commands.append('M83')\n",
    "\n",
    "# Home all axes\n",
    "gcode_commands.append('G28')\n",
    "\n",
    "gcode_commands.append('G90')\n",
    "\n",
    "# Move to the initial position\n",
    "gcode_commands.append('G0 X0 Y0 Z35 F5000')"
   ]
  },
  {
   "cell_type": "code",
   "execution_count": 9,
   "id": "4744e347",
   "metadata": {},
   "outputs": [],
   "source": [
    "# Get water and Fill resevior \n",
    "components = [reservoir, water]\n",
    "\n",
    "for component in components:\n",
    "    gcode_commands.append(Move + component + move_speed)\n",
    "\n",
    "gcode_commands.append('')\n",
    "gcode_commands.append(Liquid + v3 + aspirate_speed)\n",
    "gcode_commands.append(Move + reservoir + move_speed)\n",
    "gcode_commands.append('M83')\n",
    "gcode_commands.append(Liquid + v_1 + fill_tube_speed)\n",
    "\n",
    "components = [reservoir, head_away]\n",
    "\n",
    "for component in components:\n",
    "    gcode_commands.append(Move + component + move_speed)"
   ]
  },
  {
   "cell_type": "code",
   "execution_count": 10,
   "id": "de9fbf88",
   "metadata": {},
   "outputs": [],
   "source": [
    "# Create an initial output_textarea with a fixed height\n",
    "output_textarea = widgets.Textarea(value='', description='Output List:', layout=widgets.Layout(height='100px', width='400px'))\n",
    "\n",
    "# Function to dynamically adjust the textarea height based on content\n",
    "def adjust_textarea_height(change):\n",
    "    lines = change.new.split('\\n')\n",
    "    num_lines = len(lines)\n",
    "    new_height = max(100, num_lines * 20)  # Minimum height of 300px\n",
    "\n",
    "    # Update the height of the textarea\n",
    "    output_textarea.layout.height = f'{new_height}px'\n",
    "\n",
    "# Attach the event handler to the output_textarea\n",
    "output_textarea.observe(adjust_textarea_height, 'value')"
   ]
  },
  {
   "cell_type": "code",
   "execution_count": 11,
   "id": "6d31f707",
   "metadata": {},
   "outputs": [
    {
     "data": {
      "application/vnd.jupyter.widget-view+json": {
       "model_id": "f5e85e6ac98d4714a64b4b9ffd582698",
       "version_major": 2,
       "version_minor": 0
      },
      "text/plain": [
       "VBox(children=(HBox(children=(Button(description='A1', style=ButtonStyle()), Button(description='A2', style=Bu…"
      ]
     },
     "metadata": {},
     "output_type": "display_data"
    },
    {
     "data": {
      "application/vnd.jupyter.widget-view+json": {
       "model_id": "410dd3597d284150b9c0b694956edac8",
       "version_major": 2,
       "version_minor": 0
      },
      "text/plain": [
       "Textarea(value='', description='Output List:', layout=Layout(height='100px', width='400px'))"
      ]
     },
     "metadata": {},
     "output_type": "display_data"
    }
   ],
   "source": [
    "Wellplate = []\n",
    "output = widgets.Output()\n",
    "output_list = []  # List to store button descriptions\n",
    "last_click_time = {}  # Dictionary to store the last click time for each button\n",
    "prev_clicked_button = None  # Keep track of the previously clicked button\n",
    "\n",
    "def on_button_clicked(b):\n",
    "    global prev_clicked_button, output_list\n",
    "    \n",
    "    current_time = time.time()\n",
    "    last_time = last_click_time.get(b, 0)\n",
    "    \n",
    "    if current_time - last_time < 0.5:  # Check if it's a double-click\n",
    "        print(\"Double-click detected. Cancelling click action.\")\n",
    "        last_click_time[b] = 0  # Reset last click time\n",
    "        b.style.button_color = 'transparent'  # Set button color\n",
    "        if str(b.description) in output_list:\n",
    "            output_list.remove(str(b.description))  # Remove description from the list\n",
    "            \n",
    "            if prev_clicked_button and str(prev_clicked_button.description) in output_list:\n",
    "                output_list.remove(str(prev_clicked_button.description))  # Remove previous button from the list\n",
    "                \n",
    "            prev_clicked_button = None  # Reset the previously clicked button\n",
    "        return\n",
    "    \n",
    "    last_click_time[b] = current_time  # Store current click time\n",
    "    prev_clicked_button = b\n",
    "    \n",
    "    with output:\n",
    "        print(str(b.description))\n",
    "        b.style.button_color = 'lightgreen'\n",
    "        output_list.append(str(b.description))  # Append description to the list\n",
    "        output_textarea.value = '\\n'.join(output_list)  # Update the textarea widget\n",
    "        # print(\"Current List:\", output_list)  # Display updated list\n",
    "\n",
    "# Generate the grid for the 96 well-plate\n",
    "allrows = ['A','B','C','D','E','F','G','H','I','J','K','L','M','N','O','P','Q','R','S','T','U','V','W','X','Y','Z']\n",
    "buttons_grid = []\n",
    "\n",
    "for row in allrows[0:rows]:\n",
    "    row_buttons = []\n",
    "    for i in range(1, columns+1):\n",
    "        button = widgets.Button(description=row + str(i))\n",
    "        button.on_click(on_button_clicked)\n",
    "        row_buttons.append(button)\n",
    "        Wellplate.append(button.description)\n",
    "        last_click_time[button] = 0  # Initialize last click time\n",
    "    buttons_grid.append(widgets.HBox(row_buttons))\n",
    "\n",
    "button_grid_box = widgets.VBox(buttons_grid)\n",
    "\n",
    "display(button_grid_box, output_textarea)\n"
   ]
  },
  {
   "cell_type": "code",
   "execution_count": 12,
   "id": "08be9be3",
   "metadata": {},
   "outputs": [],
   "source": [
    "def update_coordinates(label_list, coordinate_mapping):\n",
    "    updated_list = []\n",
    "    \n",
    "    for label in label_list:\n",
    "        if label in coordinate_mapping:\n",
    "            updated_list.append(coordinate_mapping[label])\n",
    "        else:\n",
    "            updated_list.append(label)\n",
    "    \n",
    "    return updated_list\n",
    "\n",
    "gcode_commands.append('; Start of the experimenttttttttttttttttttttttttttttttttttttttttttttttttttttttt')\n",
    "gcode_commands.append('M83')\n",
    "gcode_commands.append(Stop + str(wait_initial))\n",
    "gcode_commands.append('')"
   ]
  },
  {
   "cell_type": "markdown",
   "id": "4b73d1be",
   "metadata": {},
   "source": [
    "## 6. Save Python G-Code and Export as a .gcode File"
   ]
  },
  {
   "cell_type": "markdown",
   "id": "9af6d0a5",
   "metadata": {},
   "source": [
    "> This section encompasses displaying G-code commands and exporting them."
   ]
  },
  {
   "cell_type": "markdown",
   "id": "bfbece47",
   "metadata": {},
   "source": [
    "<div class=\"alert alert-info\">\n",
    "    <b>Step 7:</b> Please input a name and proceed to export the G-code files.\n",
    "</div>"
   ]
  },
  {
   "cell_type": "code",
   "execution_count": 13,
   "id": "efc2afa6",
   "metadata": {},
   "outputs": [
    {
     "data": {
      "application/vnd.jupyter.widget-view+json": {
       "model_id": "b56005646d6040ef9b8238b5f56bef44",
       "version_major": 2,
       "version_minor": 0
      },
      "text/plain": [
       "Text(value='', description='Saved as:', placeholder='Type your name here')"
      ]
     },
     "metadata": {},
     "output_type": "display_data"
    }
   ],
   "source": [
    "# Create a text input widget\n",
    "text_input = widgets.Text(\n",
    "    value='',\n",
    "    description='Saved as:',\n",
    "    placeholder='Type your name here',\n",
    "    disabled=False\n",
    ")\n",
    "\n",
    "# Display the widgets\n",
    "display(text_input)"
   ]
  },
  {
   "cell_type": "code",
   "execution_count": 14,
   "id": "e93a3602",
   "metadata": {},
   "outputs": [],
   "source": [
    "button_send = widgets.Button(\n",
    "                description='Send to PADL G code generation tool',\n",
    "                tooltip='Send',\n",
    "                style={'description_width': 'initial'}\n",
    "            )\n",
    "\n",
    "output = widgets.Output()\n",
    "\n",
    "def on_button_clicked(event):\n",
    "    with output:\n",
    "        clear_output()\n",
    "        print(f\"Messages saved to {text_input.value}.gcode\")\n",
    "        print(\"Sent message (This is what your gcode looks like):  \")\n",
    "        print(\"\\n\")\n",
    "\n",
    "        for component in update_coordinates(output_list, coordinate_mapping):\n",
    "            gcode_commands.append(Move + component + well_speed)\n",
    "            gcode_commands.append(';' + str(component))\n",
    "            gcode_commands.append(Liquid + v_dispense + dispense_speed)\n",
    "            gcode_commands.append(Stop + wait_between_cells_sec)\n",
    "        \n",
    "        gcode_commands.append('')\n",
    "        gcode_commands.append(Stop + str(wait_between_experiment_sec))\n",
    "        gcode_commands.append('')\n",
    "        \n",
    "        for command in gcode_commands:\n",
    "            print(command)\n",
    "        \n",
    "        filename = text_input.value+'.gcode'\n",
    "        # Save the G-code commands to a .gcode file\n",
    "        with open(filename, 'w') as f:\n",
    "            for command in gcode_commands:\n",
    "                f.write(command + '\\n')\n",
    "            \n",
    "button_send.on_click(on_button_clicked)\n",
    "\n",
    "vbox_result = widgets.VBox([button_send, output])"
   ]
  },
  {
   "cell_type": "code",
   "execution_count": 15,
   "id": "ff9a6d47",
   "metadata": {},
   "outputs": [],
   "source": [
    "# Existing code for the \"Send to PADL G code generation tool\" button and output widget\n",
    "button_send = widgets.Button(\n",
    "    description='Send to PADL G code generation tool',\n",
    "    tooltip='Send',\n",
    "    style={'description_width': 'initial'}\n",
    ")\n",
    "\n",
    "button_tool_change = widgets.Button(\n",
    "    description='Tool Change',\n",
    "    tooltip='Perform Tool Change',\n",
    "    style={'description_width': 'initial'}\n",
    ")\n",
    "\n",
    "output = widgets.Output()\n",
    "\n",
    "def on_button_clicked(event):\n",
    "    # Function to handle the \"Send to PADL G code generation tool\" button click\n",
    "    with output:\n",
    "        clear_output()\n",
    "        print(f\"Messages saved to {text_input.value}.gcode\")\n",
    "        print(\"Sent message (This is what your gcode looks like):  \")\n",
    "        print(\"\\n\")\n",
    "\n",
    "        for component in update_coordinates(output_list, coordinate_mapping):\n",
    "            gcode_commands.append(Move + component + well_speed)\n",
    "            gcode_commands.append(Liquid + v_dispense + dispense_speed)\n",
    "            gcode_commands.append(Stop + wait_between_cells_sec)\n",
    "        \n",
    "        gcode_commands.append('')\n",
    "        gcode_commands.append('; Waiting time ..............................................................')\n",
    "        gcode_commands.append(Stop + str(wait_between_experiment_sec))\n",
    "        gcode_commands.append('')\n",
    "        \n",
    "        for command in gcode_commands:\n",
    "            print(command)\n",
    "        \n",
    "        filename = text_input.value+'.gcode'\n",
    "        # Save the G-code commands to a .gcode file\n",
    "        with open(filename, 'w') as f:\n",
    "            for command in gcode_commands:\n",
    "                f.write(command + '\\n')\n",
    "\n",
    "def on_tool_change_clicked(event):\n",
    "    # Function to handle the \"Tool Change\" button click\n",
    "    # initialise 3d printer\n",
    "    gcode_commands.append('; Tool changing module AAAAAAAAAAAAAAAAAAAAAAAAAAAAAAAAAAAAAAAAAAAAAAAAAAAAAAA')\n",
    "    gcode_commands.append('G0 A F500') # sets A rotation to 500 deg/min\n",
    "    gcode_commands.append('G0 A8.3 F500') # ensures home positioning of frame mount\n",
    "    gcode_commands.append('G28') # autohome\n",
    "    \n",
    "    # Docking to frame code:\n",
    "    gcode_commands.append('G0 X242 Y0 Z115 F5000') # Docking position to frame\n",
    "    \n",
    "    # Moving away\n",
    "    gcode_commands.append('G0 X200')\n",
    "    gcode_commands.append('G4 S10')\n",
    "    \n",
    "    # Detatching from frame code:\n",
    "    gcode_commands.append('G0 X240 Z115')\n",
    "    gcode_commands.append('G0 A3 F500') # detatch from frame mount\n",
    "    gcode_commands.append('G0 X150') # move away with tool\n",
    "    gcode_commands.append('G0 A8.3') # Reset positioning of frame mount\n",
    "    gcode_commands.append('; Tool changing module end DDDDDDDDDDDDDDDDDDDDDDDDDDDDDDDDDDDDDDDDDDDDDDDDDDDDD')\n",
    "    gcode_commands.append('')\n",
    "    \n",
    "button_send.on_click(on_button_clicked)\n",
    "button_tool_change.on_click(on_tool_change_clicked)\n",
    "\n",
    "vbox_result = widgets.VBox([button_send, button_tool_change, output])\n"
   ]
  },
  {
   "cell_type": "code",
   "execution_count": 16,
   "id": "77f9d552",
   "metadata": {},
   "outputs": [
    {
     "data": {
      "application/vnd.jupyter.widget-view+json": {
       "model_id": "1c9d593cb961439494cd8acb1fd95b6f",
       "version_major": 2,
       "version_minor": 0
      },
      "text/plain": [
       "HBox(children=(VBox(children=(Button(description='Send to PADL G code generation tool', style=ButtonStyle(), t…"
      ]
     },
     "metadata": {},
     "output_type": "display_data"
    }
   ],
   "source": [
    "page = widgets.HBox([vbox_result])\n",
    "display(page)"
   ]
  },
  {
   "cell_type": "code",
   "execution_count": null,
   "id": "a098c37f",
   "metadata": {},
   "outputs": [],
   "source": []
  },
  {
   "cell_type": "code",
   "execution_count": null,
   "id": "20a18d85",
   "metadata": {},
   "outputs": [],
   "source": []
  }
 ],
 "metadata": {
  "kernelspec": {
   "display_name": "Python 3 (ipykernel)",
   "language": "python",
   "name": "python3"
  },
  "language_info": {
   "codemirror_mode": {
    "name": "ipython",
    "version": 3
   },
   "file_extension": ".py",
   "mimetype": "text/x-python",
   "name": "python",
   "nbconvert_exporter": "python",
   "pygments_lexer": "ipython3",
   "version": "3.9.18"
  }
 },
 "nbformat": 4,
 "nbformat_minor": 5
}
